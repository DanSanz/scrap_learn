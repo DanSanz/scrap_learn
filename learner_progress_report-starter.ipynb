{
 "cells": [
  {
   "cell_type": "code",
   "execution_count": 2,
   "metadata": {},
   "outputs": [],
   "source": [
    "# You will need a text file (renamed to cred.py) containing your credentialsimport cred\n",
    "import cred\n",
    "EMAIL = cred.EMAIL\n",
    "PASS = cred.PASS"
   ]
  },
  {
   "cell_type": "code",
   "execution_count": null,
   "metadata": {},
   "outputs": [],
   "source": [
    "import pandas as pd\n",
    "import numpy as np\n",
    "from selenium import webdriver\n",
    "import time"
   ]
  },
  {
   "cell_type": "code",
   "execution_count": null,
   "metadata": {},
   "outputs": [],
   "source": [
    "# Defining current date formats\n",
    "today = time.localtime()\n",
    "today = today.tm_year,today.tm_mon,today.tm_mday\n",
    "today_flt = str(today[2])+'/'+str(today[1]).zfill(2)+'/'+str(today[0]).zfill(2)\n",
    "today = str(today[0])+'-'+str(today[1]).zfill(2)+'-'+str(today[2]).zfill(2)"
   ]
  },
  {
   "cell_type": "code",
   "execution_count": null,
   "metadata": {},
   "outputs": [],
   "source": [
    "# Initiate scraper and navigate to Aptem\n",
    "driver = webdriver.Chrome('chrome_driver/chromedriver')\n",
    "URL = ''\n",
    "driver.get(URL)\n",
    "time.sleep(5)\n",
    "\n",
    "# Login\n",
    "input_email = driver.find_element_by_xpath('//input[@name=\"userNameOrEmail\"]')\n",
    "input_email.send_keys(EMAIL)\n",
    "input_password = driver.find_element_by_xpath('//input[@name=\"password\"]')\n",
    "input_password.send_keys(PASS)\n",
    "sign_in = driver.find_element_by_xpath('//input[@value=\"Sign in\"]')\n",
    "sign_in.click()"
   ]
  },
  {
   "cell_type": "markdown",
   "metadata": {},
   "source": [
    "## Creating a list of student's learning plan's URLs and Names"
   ]
  },
  {
   "cell_type": "markdown",
   "metadata": {},
   "source": [
    "### Only need to run this once"
   ]
  },
  {
   "cell_type": "code",
   "execution_count": null,
   "metadata": {},
   "outputs": [],
   "source": [
    "# WIP (not currently working)\n",
    "# drop_down = driver.find_element_by_xpath('//input[@class=\"k-input\"]')\n",
    "# drop_down.click()\n",
    "# # cohort_sel = driver.find_elements_by_xpath(f'//span[@class=\"k-in\"][@class={COHORT}]')\n",
    "# # cohort_sel\n",
    "# cohort_sel = driver.find_elements_by_xpath('//span[@class=\"k-in\"]')[1]\n",
    "# cohort_sel.click()"
   ]
  },
  {
   "cell_type": "code",
   "execution_count": null,
   "metadata": {},
   "outputs": [],
   "source": [
    "# Filter so that you are the case owner\n",
    "drop_down = driver.find_element_by_xpath('//span[@class=\"k-input\"]')\n",
    "drop_down.click()\n",
    "time.sleep(5)\n",
    "owner_sel.click()\n",
    "# TODO: Adjust the index to select your name\n",
    "owner_sel = driver.find_element_by_xpath('//li[@class=\"k-item\"][@data-offset-index=0]')\n",
    "search = driver.find_element_by_xpath('//input[@value=\"Search\"]')\n",
    "search.click()\n",
    "\n",
    "# Collecting the results of users result pages (as only 10 fit in a single page we need to click through)\n",
    "link_list = []\n",
    "next_b = [0]\n",
    "pages = int(driver.find_element_by_xpath(\"//span[@class='k-pager-input k-label']\").text.split(' ')[-1])\n",
    "next_b = driver.find_element_by_xpath(\"//span[@class='k-icon k-i-arrow-60-right']\")\n",
    "\n",
    "# We iterate through each page and extract the learning plan and user name of all learners on those pages\n",
    "for i in range(pages):\n",
    "    link_elements = driver.find_elements_by_xpath(\"//td[@role='gridcell']//a[contains(@href, 'LearningProgramme?')]\")\n",
    "    user_elements = driver.find_elements_by_xpath(\"//td[@role='gridcell']//a[contains(@href, 'JobSeekerProfile')]\")\n",
    "    print(len(link_elements))\n",
    "#     for i in len(link_elements):\n",
    "    for i,href in enumerate(link_elements):\n",
    "        values = [user_elements[i].text,href.get_attribute('href')]\n",
    "        link_list.append(values) \n",
    "    next_b.click()\n",
    "    time.sleep(5)"
   ]
  },
  {
   "cell_type": "code",
   "execution_count": null,
   "metadata": {},
   "outputs": [],
   "source": [
    "# Saving progress\n",
    "pd.DataFrame(link_list).to_csv('names_and_links.csv',index=False)"
   ]
  },
  {
   "cell_type": "markdown",
   "metadata": {},
   "source": [
    "## Data collection (run every time)"
   ]
  },
  {
   "cell_type": "code",
   "execution_count": null,
   "metadata": {},
   "outputs": [],
   "source": [
    "# Using control point\n",
    "names_and_links = pd.read_csv('names_and_links.csv')"
   ]
  },
  {
   "cell_type": "code",
   "execution_count": null,
   "metadata": {},
   "outputs": [],
   "source": [
    "%%time\n",
    "data = []\n",
    "# for lp_url in link_list:\n",
    "for i,lp_url in names_and_links.iterrows():    \n",
    "# Extracting URL and user_ref\n",
    "    user = lp_url[0]\n",
    "    print(i,user)\n",
    "    driver.get(lp_url[1])\n",
    "    time.sleep(20)\n",
    "    # Extending results on page\n",
    "    date_from = driver.find_element_by_xpath(\"//input[@data-bind='kendoDatePicker: dateFrom']\")\n",
    "    date_to = driver.find_element_by_xpath(\"//input[@data-bind='kendoDatePicker: dateTo']\")\n",
    "    search_link = driver.find_element_by_xpath(\"//a[@data-bind='click: applyFilters']\")\n",
    "    date_from.clear()\n",
    "    date_from.send_keys('01/09/2020')\n",
    "    date_to.clear()\n",
    "    date_to.send_keys(today_flt)\n",
    "    search_link.click()\n",
    "    time.sleep(5)\n",
    "    # Extracting components\n",
    "    components = driver.find_elements_by_xpath(\"//div[@class='lp-accordion-control lp-component']\")\n",
    "    for comp in components:\n",
    "        data.append([user] + comp.text.split('\\n')[0:3])\n",
    "driver.quit()"
   ]
  },
  {
   "cell_type": "markdown",
   "metadata": {},
   "source": [
    "# Creating nice dataframes and files"
   ]
  },
  {
   "cell_type": "code",
   "execution_count": null,
   "metadata": {
    "scrolled": true
   },
   "outputs": [],
   "source": [
    "df = pd.DataFrame(data,columns=['learner','category','component','status'])\n",
    "df.to_csv(f'output/source/source_data_{today}.csv',index=False) # Saving data in case something goes wrong\n",
    "\n",
    "# Selecting components that learners need to complete\n",
    "cat_filt = (df['category'].isin(['Online training','Digital learning']))\n",
    "comp_filt = (df.component.str.contains('Personal Development|Unit'))\n",
    "df_clean = df[cat_filt & comp_filt].copy()\n",
    "\n",
    "# Encoding completion status with numbers that would be easy to tell apart with conditional formating in excel\n",
    "df_clean['completed'] = (df_clean.status == 'Completed').astype(int)\n",
    "df_clean['referred'] = (df_clean.status == 'Referred').astype(int)\n",
    "df_clean['pending'] = (df_clean.status.isin(['Evidence submitted','1outstanding approvals Evidence submitted'])).astype(int)\n",
    "df_clean['status_num'] = df_clean.pending + df_clean.referred*50 + df_clean.completed*100\n",
    "df_clean.loc[df_clean['status_num']<1,'status_num'] = -100\n",
    "\n",
    "# Creating a component by learner matrix\n",
    "report = df_clean.pivot_table(index='component',columns='learner',values='status_num',aggfunc='sum').reset_index()\n",
    "report = df_clean.loc[df_clean.learner==names_and_links['0'][0],['component']].merge(report,on='component')\n",
    "\n",
    "# Adds dates (from manually encoded csv currently) to be able to calculate backlog duration\n",
    "report['due_dates'] = pd.to_datetime(pd.read_csv('due_dates.csv').iloc[:len(report),0],dayfirst=True)\n",
    "report['month_block'] = np.floor((pd.to_datetime(today) - report['due_dates']).dt.days/28).astype(int)\n",
    "report = report[['due_dates','month_block']+list(report.columns[:-2])]\n",
    "\n",
    "# Classifies learners according to backlog duration criteria\n",
    "compl_lst = []\n",
    "for i in range(3):\n",
    "    compl_lst.append(len(report[(report['month_block']>i)]))\n",
    "\n",
    "lid = pd.read_csv('learners_id.csv') # Currently imported from official Corndel's cohort tracking doc\n",
    "lid.set_index('name',inplace=True)\n",
    "lid['backlog_months'] = '1-'\n",
    "lid.loc[((report == 100).sum()[3:] < compl_lst[0]),'backlog_months'] = '>1'\n",
    "lid.loc[((report == 100).sum()[3:] < compl_lst[1]),'backlog_months'] = '>2'\n",
    "lid.loc[((report == 100).sum()[3:] < compl_lst[2]),'backlog_months'] = '3+'\n",
    "\n",
    "# Adds the backlog category as row to componentXlearner matrix\n",
    "report = report[report.columns[:3]].merge(report.T[3:].merge(lid[['backlog_months']]\n",
    "                                ,left_index=True,right_index=True).T\n",
    "             ,left_index=True,right_index=True,how='right')\n",
    "\n",
    "# Exports matrix\n",
    "report.to_csv(f'output/reports/report_{today}.csv',index=False)\n",
    "\n",
    "# Exports email list sorted by backlog duration category (ideal for email automation)\n",
    "lid.sort_values('backlog_months',inplace=True)\n",
    "lid.to_csv(f'output/outreach/learners_outreach_{today}.csv') #"
   ]
  },
  {
   "cell_type": "markdown",
   "metadata": {},
   "source": [
    "### Some fun EDA and applications"
   ]
  },
  {
   "cell_type": "code",
   "execution_count": null,
   "metadata": {},
   "outputs": [],
   "source": [
    "report.tail()"
   ]
  },
  {
   "cell_type": "code",
   "execution_count": null,
   "metadata": {},
   "outputs": [],
   "source": [
    "df[(df.learner==names_and_links['0'][0])&(df.component.str.contains('121'))]"
   ]
  },
  {
   "cell_type": "code",
   "execution_count": null,
   "metadata": {},
   "outputs": [],
   "source": [
    "# Listing last 121 or QR\n",
    "df[(df.category=='Review')\n",
    "#    &(df.component.str.contains('Q'))\n",
    "  ].groupby('learner').last()"
   ]
  },
  {
   "cell_type": "code",
   "execution_count": null,
   "metadata": {},
   "outputs": [],
   "source": []
  }
 ],
 "metadata": {
  "kernelspec": {
   "display_name": "Python 3",
   "language": "python",
   "name": "python3"
  },
  "language_info": {
   "codemirror_mode": {
    "name": "ipython",
    "version": 3
   },
   "file_extension": ".py",
   "mimetype": "text/x-python",
   "name": "python",
   "nbconvert_exporter": "python",
   "pygments_lexer": "ipython3",
   "version": "3.8.3"
  }
 },
 "nbformat": 4,
 "nbformat_minor": 4
}
